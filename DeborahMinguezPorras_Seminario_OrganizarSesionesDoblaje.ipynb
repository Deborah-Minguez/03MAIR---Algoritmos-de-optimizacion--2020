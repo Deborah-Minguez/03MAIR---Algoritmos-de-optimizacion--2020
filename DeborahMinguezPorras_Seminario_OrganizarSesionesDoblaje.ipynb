{
  "nbformat": 4,
  "nbformat_minor": 0,
  "metadata": {
    "colab": {
      "name": "DeborahMinguezPorras_Seminario_OrganizarSesionesDoblaje.ipynb",
      "provenance": [],
      "collapsed_sections": [
        "6jflzfTgmYkE",
        "xJ6lip6yEw_L"
      ],
      "toc_visible": true,
      "authorship_tag": "ABX9TyPR5D+MshntQOyX3ob4Oa1U",
      "include_colab_link": true
    },
    "kernelspec": {
      "name": "python3",
      "display_name": "Python 3"
    }
  },
  "cells": [
    {
      "cell_type": "markdown",
      "metadata": {
        "id": "view-in-github",
        "colab_type": "text"
      },
      "source": [
        "<a href=\"https://colab.research.google.com/github/Deborah-Minguez/03MAIR---Algoritmos-de-optimizacion--2020/blob/main/DeborahMinguezPorras_Seminario_OrganizarSesionesDoblaje.ipynb\" target=\"_parent\"><img src=\"https://colab.research.google.com/assets/colab-badge.svg\" alt=\"Open In Colab\"/></a>"
      ]
    },
    {
      "cell_type": "markdown",
      "metadata": {
        "id": "6jflzfTgmYkE"
      },
      "source": [
        "# Algoritmos de optimización - Seminario<br>\r\n",
        "Nombre y Apellidos:  Deborah Minguez Porras <br>\r\n",
        "URL: https://github.com/Deborah-Minguez/03MAIR---Algoritmos-de-optimizacion--2020/blob/main/DeborahMinguezPorras_Seminario_OrganizarSesionesDoblaje.ipynb <br>\r\n",
        "\r\n",
        "Problema:\r\n",
        " 1. Sesiones de doblaje <br>\r\n",
        "\r\n",
        "(*) La respuesta es obligatoria\r\n"
      ]
    },
    {
      "cell_type": "markdown",
      "metadata": {
        "id": "xJ6lip6yEw_L"
      },
      "source": [
        "#Descripcion del Problema: <br>\r\n",
        "Se precisa coordinar el doblaje de una película. Los actores del doblaje deben coincidir en las tomas en las que sus personajes aparecen juntos en las diferentes tomas. Los actores de doblaje cobran todos la misma cantidad por cada día que deben desplazarse hasta el estudio de grabación independientemente del número de tomas que se graben. No es posible grabar más de 6 tomas por día. El objetivo es planificar las sesiones por día de manera que se gasto por los servicios de los actores de doblaje sea el menor posible. Los datos son: <br>\r\n",
        "\r\n",
        "Número Actores: 10 <br>\r\n",
        "Número de tomas: 30 <br>\r\n",
        "Máximo tomas por día: 6 <br>\r\n",
        "Actores/Tomas : //bit.ly/36D8IuK <br>\r\n",
        "\r\n",
        "1 indica que el actor participa en la toma <br>\r\n",
        "0 en caso contrario"
      ]
    },
    {
      "cell_type": "markdown",
      "metadata": {
        "id": "bCOUdp2RG21M"
      },
      "source": [
        "# Preguntas:"
      ]
    },
    {
      "cell_type": "markdown",
      "metadata": {
        "id": "svcpfeStG5aj"
      },
      "source": [
        "### (*)¿Cuantas posibilidades hay sin tener en cuenta las restricciones?<br>\r\n",
        "\r\n",
        "\r\n",
        "\r\n",
        "### ¿Cuantas posibilidades hay teniendo en cuenta todas las restricciones."
      ]
    },
    {
      "cell_type": "markdown",
      "metadata": {
        "id": "GJJg4QVAnA4q"
      },
      "source": [
        "Respuesta"
      ]
    },
    {
      "cell_type": "markdown",
      "metadata": {
        "id": "IP9Nu2ZDHRXf"
      },
      "source": [
        "(*) Sin tener en cuenta las restricciones, y teniendo en cuenta que tenemos 30 tomas, tendriamos una unica posibilidad (todas las tomas el mismo día). <br>\r\n",
        "\r\n",
        "En cambio, si tenemos en cuenta la restriccion de que como maximo se pueden realizar 6 tomas en un día, tenemos las siguientes posibilidades: nos da una combinatoria de M=5 Y N= [30! / (6!*(30-6)!)]de posibilidades. Por tanto el resultado final es M=5 y N= 593.775 que da el resultado de 6.150649533672229e+26 posibilidades.\r\n"
      ]
    },
    {
      "cell_type": "markdown",
      "metadata": {
        "id": "RTZ-2N4hoI5G"
      },
      "source": [
        "### Modelo para el espacio de soluciones<br>\r\n",
        "### (*) ¿Cual es la estructura de datos que mejor se adapta al problema? Argumentalo.(Es posible que hayas elegido una al principio y veas la necesidad de cambiar, arguentalo)"
      ]
    },
    {
      "cell_type": "markdown",
      "metadata": {
        "id": "zXaIRo8yoS95"
      },
      "source": [
        "Respuesta"
      ]
    },
    {
      "cell_type": "markdown",
      "metadata": {
        "id": "MEzvoRmIPW1D"
      },
      "source": [
        "(*) La solución que mejor se me ha adaptado el problema ha sido para el total de datos (30 tomas Vs 10 actores) un dataframe de pandas, donde tenia los actores como variables y las tomas como registros. <br> \r\n",
        "\r\n",
        "Despues, dada las soluciones propuestas en cada caso he utilizado un vector de 30 posiciones, donde cada posición era la toma exacta que se debia hacer. Ese vector lo que \"troceado\" en 5 partes en orden, donde cada trozo tenia las 6 tomas propuestas para un día. "
      ]
    },
    {
      "cell_type": "markdown",
      "metadata": {
        "id": "AHjL0Ki0opSM"
      },
      "source": [
        "### Según el modelo para el espacio de soluciones\r\n",
        "### (*)¿Cual es la función objetivo?\r\n",
        "\r\n",
        "### (*)¿Es un problema de maximización o minimización?"
      ]
    },
    {
      "cell_type": "markdown",
      "metadata": {
        "id": "O0DoYR1PorZ1"
      },
      "source": [
        "Respuesta"
      ]
    },
    {
      "cell_type": "markdown",
      "metadata": {
        "id": "JR6krywsRMia"
      },
      "source": [
        "(*) La función Objetivo es:  <br>\r\n",
        " - La suma del coste de los 5 días. He creado la función \"calculo_coste_total\" en python, donde le debo pasar por parametro el vector de solución a valorar.  <br>\r\n",
        " - donde el coste diario se calcula como el número de actores distintos que tenemos en las 6 tomas que han sido seleccionadas para ese día. He creado la función \"calculo_coste_dia\" en codigo python, donde debo pasarle el vector de solución a valorar y exactamente en que día estoy de los 5 posibles. <br> \r\n",
        "\r\n",
        "\r\n",
        "\r\n"
      ]
    },
    {
      "cell_type": "markdown",
      "metadata": {
        "id": "Iagiqb6sRtzK"
      },
      "source": [
        "(*) Es un problema de minimización del coste de los 5 días de rodaje necesarios para hacer las 30 tomas con los 10 actores de doblaje."
      ]
    },
    {
      "cell_type": "markdown",
      "metadata": {
        "id": "Lzuu9gIjpMzB"
      },
      "source": [
        "### Diseña un algoritmo para resolver el problema por fuerza bruta"
      ]
    },
    {
      "cell_type": "markdown",
      "metadata": {
        "id": "WZMgoIPmpTZt"
      },
      "source": [
        "Respuesta"
      ]
    },
    {
      "cell_type": "markdown",
      "metadata": {
        "id": "YE1e13AjUon4"
      },
      "source": [
        "Como tenemos 6.150649533672229e+26 posibilidades en el problema, he descartado hacerlo por fuerza bruta. "
      ]
    },
    {
      "cell_type": "markdown",
      "metadata": {
        "id": "seqBMELXpXSU"
      },
      "source": [
        "###Calcula la complejidad del algoritmo por fuerza bruta"
      ]
    },
    {
      "cell_type": "markdown",
      "metadata": {
        "id": "4gvJV-fZpo3Z"
      },
      "source": [
        "Respuesta"
      ]
    },
    {
      "cell_type": "markdown",
      "metadata": {
        "id": "7ONkKfPepzen"
      },
      "source": [
        "###(*)Diseña un algoritmo que mejore la complejidad del algortimo por fuerza bruta. Argumenta porque crees que mejora el algoritmo por fuerza bruta"
      ]
    },
    {
      "cell_type": "markdown",
      "metadata": {
        "id": "uLIe8_Iap6rH"
      },
      "source": [
        "Respuesta"
      ]
    },
    {
      "cell_type": "markdown",
      "metadata": {
        "id": "AcVlWpyWVa-p"
      },
      "source": [
        "(*) He implementado un algoritmo de GRASP, donde inicio por la mejor solucion aleatroria de 1000 ejecutadas, a partir de esa solucion inicial trabajo con los vecinos mas cercanos, y a partir del mejor vecino inicio el proceso de nuevo analizando sus vecinos (realizo 1000 iteraciones sobre los vecinos).\r\n",
        "\r\n",
        "Creo que es mejor que la de fuerza bruta porque para poder acometerla deberia ejecutar las 6.150649533672229e+26 de posibilidades que existen, y esto puede llegar a ser muchos días, incluso semanas. Con el algoritmo GRASP que he realizado, hago 1000 ejecuciones aleatorias iniciales, y de ese punto de partida 1000 trabajando con vecinos más cercanos, obteniendo una solución buena y he tardado solo xx horas."
      ]
    },
    {
      "cell_type": "code",
      "metadata": {
        "id": "RlyTmy56VvLF"
      },
      "source": [
        "# Librerias necesarias\r\n",
        "import random\r\n",
        "import pandas as pd\r\n",
        "from google.colab import files"
      ],
      "execution_count": 1,
      "outputs": []
    },
    {
      "cell_type": "markdown",
      "metadata": {
        "id": "MvBPaFmeV_ju"
      },
      "source": [
        "### Defino todas las funciones a continuación"
      ]
    },
    {
      "cell_type": "code",
      "metadata": {
        "id": "v2nveA_kV-pP"
      },
      "source": [
        "# creamos una solucion aleatoria a partir de la lista de tomas \r\n",
        "# Iniciamos a partir de la primera toma\r\n",
        "def crear_solucion_aleat (tomas):\r\n",
        "    solucion=[tomas[0]]\r\n",
        "    for n in tomas[1:]:\r\n",
        "        solucion=solucion + [random.choice(list(set(tomas) - set ({tomas[0]}) - set (solucion)))]\r\n",
        "    return solucion"
      ],
      "execution_count": 2,
      "outputs": []
    },
    {
      "cell_type": "code",
      "metadata": {
        "id": "pLfw7hG3XFNz"
      },
      "source": [
        "# a partir del dia de la semana que es nos devuelve la posicion inicial y final del vector de soluciones (tomas)\r\n",
        "def traduccion_dia (dia):\r\n",
        "  if dia == 1:\r\n",
        "    ini=1\r\n",
        "  if dia == 2:\r\n",
        "    ini=7\r\n",
        "  if dia == 3:  \r\n",
        "    ini=13\r\n",
        "  if dia == 4:\r\n",
        "    ini =19\r\n",
        "  if dia == 5:\r\n",
        "    ini =25\r\n",
        "  fin = ini + 5\r\n",
        "  return ini, fin"
      ],
      "execution_count": 3,
      "outputs": []
    },
    {
      "cell_type": "code",
      "metadata": {
        "id": "YGctBZBRWNK1"
      },
      "source": [
        "def calculo_coste_dia (solucion, dia):\r\n",
        "  # a partir del día nos traemos la posicion ini y la posicion fin del vector de resultados\r\n",
        "  ini, fin = traduccion_dia (dia)\r\n",
        "\r\n",
        "  #inicializamos variables\r\n",
        "  registros=[]\r\n",
        "  N=ini\r\n",
        "    \r\n",
        "  #recorremos las posiciones para crear el subset (el dia de rodaje)\r\n",
        "  while N < fin+1:\r\n",
        "      registros.append(datos.loc[datos['Toma']==solucion[N-1]])\r\n",
        "      N+=1\r\n",
        "  subset = pd.concat(registros, axis=0)\r\n",
        "  \r\n",
        "  # calculamos el coste que tiene ese dia seleccionado\r\n",
        "  coste_parcial=(subset['A1'].max(axis=0)+subset['A2'].max(axis=0)+subset['A3'].max(axis=0)+subset['A4'].max(axis=0)+subset['A5'].max(axis=0)\r\n",
        "    + subset['A6'].max(axis=0)+subset['A7'].max(axis=0)+subset['A8'].max(axis=0)+subset['A9'].max(axis=0)+subset['A10'].max(axis=0))\r\n",
        "                \r\n",
        "  return coste_parcial"
      ],
      "execution_count": 4,
      "outputs": []
    },
    {
      "cell_type": "code",
      "metadata": {
        "id": "DiFQUiYAYfZo"
      },
      "source": [
        "def calculo_coste_total (solucion):\r\n",
        "    coste=(calculo_coste_dia (solucion,1) + calculo_coste_dia (solucion,2) + calculo_coste_dia (solucion,3) \r\n",
        "        + calculo_coste_dia (solucion,4) + calculo_coste_dia (solucion,5))\r\n",
        "    return coste"
      ],
      "execution_count": 5,
      "outputs": []
    },
    {
      "cell_type": "code",
      "metadata": {
        "id": "AFQS5mtmYzz3"
      },
      "source": [
        "def busqueda_aleatoria(tomas, N):\r\n",
        "    mejor_solucion = []\r\n",
        "    mejor_coste = 10e100\r\n",
        "    \r\n",
        "    # hacemos un bucle para iterar N veces\r\n",
        "    for i in range(N):\r\n",
        "\r\n",
        "        # Generamos  N soluciones aleatorias y calculamos su coste\r\n",
        "        solucion = crear_solucion_aleat(tomas)                \r\n",
        "        coste = calculo_coste_total (solucion) \r\n",
        "\r\n",
        "        # comparamos si la solucion aleatoria tiene mejor resultado que los anteriores\r\n",
        "        if coste < mejor_coste:                 \r\n",
        "            mejor_solucion = solucion\r\n",
        "            mejor_coste = coste\r\n",
        "            \r\n",
        "    return mejor_solucion, mejor_coste "
      ],
      "execution_count": 6,
      "outputs": []
    },
    {
      "cell_type": "code",
      "metadata": {
        "id": "5W5gxzh6dTkc"
      },
      "source": [
        "# funcion extraida de la actividad guiada 3, que utilizare para calcular soluciones vecinas y medirlas\r\n",
        "def genera_vecina(solucion, coste):\r\n",
        "  #Generador de soluciones vecinas: 2-opt (intercambiar 2 nodos) Si hay N nodos se generan (N-1)x(N-2)/2 soluciones\r\n",
        "  mejor_solucion = solucion\r\n",
        "  mejor_coste = coste\r\n",
        "  for i in range(1,len(solucion)-1):    \r\n",
        "\r\n",
        "    #Recorremos todos los nodos en bucle doble para evaluar todos los intercambios 2-opt\r\n",
        "    for j in range(i+1, len(solucion)):\r\n",
        "      \r\n",
        "      #Se genera una nueva solución intercambiando los dos nodos i,j:\r\n",
        "      vecina = solucion[:i] + [solucion[j]] + solucion[i+1:j] + [solucion[i]] + solucion[j+1:]  \r\n",
        "\r\n",
        "      #Se evalua la nueva solución \r\n",
        "      valor_vecina =  calculo_coste_total (vecina)         \r\n",
        "        \r\n",
        "      # y si es mejor se guarda como mejor resultado\r\n",
        "      if valor_vecina < mejor_coste:\r\n",
        "        mejor_coste = valor_vecina\r\n",
        "        mejor_solucion = vecina\r\n",
        "\r\n",
        "  return mejor_solucion, mejor_coste"
      ],
      "execution_count": 20,
      "outputs": []
    },
    {
      "cell_type": "code",
      "metadata": {
        "id": "RTSUARx9eryK"
      },
      "source": [
        "def GRASP (tomas, N, M):\r\n",
        "\r\n",
        "  # ejecuto una solucion aleatoria para obtener un  punto de partida, paso como parametro M que es el numero de aleatorias iniciales a lanzar \r\n",
        "  solucion_champion, coste_champion = busqueda_aleatoria(tomas,M)\r\n",
        "\r\n",
        "  # hacemos un bucle para iterar N veces\r\n",
        "  for i in range(N):\r\n",
        "    solucion_vecina, coste_vecina = genera_vecina (solucion_champion, coste_champion)\r\n",
        "    \r\n",
        "    # y si es mejor la vecina se guarda como mejor resultado\r\n",
        "    if coste_vecina < coste_champion:\r\n",
        "      coste_champion = coste_vecina\r\n",
        "      solucion_champion = solucion_vecina\r\n",
        "  return solucion_champion, coste_champion"
      ],
      "execution_count": 21,
      "outputs": []
    },
    {
      "cell_type": "markdown",
      "metadata": {
        "id": "FrtuTeHXY9mf"
      },
      "source": [
        "### Iniciamos el programa principal"
      ]
    },
    {
      "cell_type": "code",
      "metadata": {
        "colab": {
          "resources": {
            "http://localhost:8080/nbextensions/google.colab/files.js": {
              "data": "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",
              "ok": true,
              "headers": [
                [
                  "content-type",
                  "application/javascript"
                ]
              ],
              "status": 200,
              "status_text": ""
            }
          },
          "base_uri": "https://localhost:8080/",
          "height": 72
        },
        "id": "vnImLfM6Y-pd",
        "outputId": "da0d9712-2795-497e-8793-cc67cb6a0cf3"
      },
      "source": [
        "#Importamos los datos del ejercicio\r\n",
        "uploaded = files.upload()\r\n",
        "datos = pd.read_csv('datos_problema.csv', header=0, sep = ';')\r\n",
        "\r\n",
        "# cargo los id de las 30 tomas que tenemos\r\n",
        "tomas=datos['Toma']"
      ],
      "execution_count": 12,
      "outputs": [
        {
          "output_type": "display_data",
          "data": {
            "text/html": [
              "\n",
              "     <input type=\"file\" id=\"files-2a654224-0f28-49e0-b9f0-29a4473bc5e8\" name=\"files[]\" multiple disabled\n",
              "        style=\"border:none\" />\n",
              "     <output id=\"result-2a654224-0f28-49e0-b9f0-29a4473bc5e8\">\n",
              "      Upload widget is only available when the cell has been executed in the\n",
              "      current browser session. Please rerun this cell to enable.\n",
              "      </output>\n",
              "      <script src=\"/nbextensions/google.colab/files.js\"></script> "
            ],
            "text/plain": [
              "<IPython.core.display.HTML object>"
            ]
          },
          "metadata": {
            "tags": []
          }
        },
        {
          "output_type": "stream",
          "text": [
            "Saving datos_problema.csv to datos_problema (1).csv\n"
          ],
          "name": "stdout"
        }
      ]
    },
    {
      "cell_type": "code",
      "metadata": {
        "id": "kVCeegSeeTkd"
      },
      "source": [
        "# Ejecuto el algoritmo de optimizacion GRASP, le paso por parametros las tomas que debemos optimizar, las N veces que quiero ejecutar el proceso \r\n",
        "# y las M veces que quiero que se genere las soluciones aleatorias iniciales (selecciona como punto de partida la mejor solucion aleatoria de las M ejecutadas)\r\n",
        "# si pusiera N igual a 0 solo estaria haciendo las soluciones iniciales aleatorias, no estaría aplicando vecinos. En este caso concreto N=1000 y M=1000\r\n",
        "\r\n",
        "solucion_champion, coste_champion = GRASP (tomas, 1000, 1000)"
      ],
      "execution_count": null,
      "outputs": []
    },
    {
      "cell_type": "code",
      "metadata": {
        "colab": {
          "base_uri": "https://localhost:8080/"
        },
        "id": "WTtvtY9SeKvt",
        "outputId": "39a0b0dd-6ab4-4739-fc1c-8815f0a400e8"
      },
      "source": [
        "# visualizo por pantalla la ganadora de la soluciones de vecinos\r\n",
        "print(solucion_champion)\r\n",
        "print(coste_champion)"
      ],
      "execution_count": 27,
      "outputs": [
        {
          "output_type": "stream",
          "text": [
            "[1, 19, 23, 2, 6, 7, 15, 28, 30, 4, 27, 3, 17, 26, 10, 18, 14, 8, 16, 20, 22, 24, 25, 29, 12, 11, 21, 13, 9, 5]\n",
            "31\n"
          ],
          "name": "stdout"
        }
      ]
    },
    {
      "cell_type": "markdown",
      "metadata": {
        "id": "t0tJj5uZE8cq"
      },
      "source": [
        "### (*)Calcula la complejidad del algoritmo"
      ]
    },
    {
      "cell_type": "markdown",
      "metadata": {
        "id": "H4n5kKeSFSYK"
      },
      "source": [
        "Respuesta"
      ]
    },
    {
      "cell_type": "markdown",
      "metadata": {
        "id": "jTay8ELxFWBa"
      },
      "source": [
        "El algoritmo implementado a nivel de complejidad tiene: <br>\r\n",
        "- Al ejecutar las 1000 (M) pruebas aleatorias: <br>\r\n",
        "  1) 1000 llamadas a la funcion aleatoria, que a su vez tiene bucle del 1 al 29. <br> \r\n",
        "  2) Calculo coste, que llama 5 veces a la funcion coste por dia que a su vez hace bucle que va del A al A+5. <br>\r\n",
        "\r\n",
        "- Se ejecutan 1000 (N) combinaciones Vecinas, y cada una de ellas: <br>\r\n",
        "  1) Realiza 406 propuestas de soluciones vecinas. <br>\r\n",
        "  2) que a su vez para cada una de esas propuestas calcula el coste total llamando 5 veces al coste por dia, que a su vez tiene un bucle de A a A+5. <br>\r\n",
        "\r\n",
        "COMPLEJIDAD: M"
      ]
    },
    {
      "cell_type": "markdown",
      "metadata": {
        "id": "0LPL4Ph7FWml"
      },
      "source": [
        "### Describe brevemente las lineas de como crees que es posible avanzar en el estudio del problema. Ten en cuenta incluso posibles variaciones del problema y/o variaciones al alza del tamaño"
      ]
    },
    {
      "cell_type": "markdown",
      "metadata": {
        "id": "XT-falvvFeA7"
      },
      "source": [
        "Respuesta"
      ]
    },
    {
      "cell_type": "markdown",
      "metadata": {
        "id": "F9XQUa3aFiyN"
      },
      "source": [
        "He probado incluso a realizar una segmentación inicial K-means, con 11 segmentos (número de segmentos optimo). Con esta segmentación pretendia agrupar tomas similares entre ellas y diferentes con el resto por la combinación (0/1) de los 10 actores. De esa forma tendría juntas tomas que salen mayoritariamente los mismos actores.\r\n",
        "\r\n",
        "Despues en lugar de tratar las tomas de forma individual, las trataba como packs (el segmento entero), y planteaba soluciones (aleatoria, vecina) a partir de los 11 segmentos, que despues traducia a sus tomas reales en orden de aparición en el data set.\r\n",
        "\r\n",
        "Un ejemplo sencillo para que se entienda de 5 tomas, donde se agrupan en dos segmentos: segmento 1 (toma 3 y 5), segmento 2 (toma 1 y 2) y segmento 3 (toma 4). En lugar de hacer aleatorio y vecinos con las tomas de la 1 a la 5, lo hago con los tres segmentos, por ejemplo me sale segmento 2, 1 y 3, y por tanto las tomas 1,2,3,5 y 4. \r\n",
        "\r\n",
        "Este planteamiento de segmentación no ha mejorado la solucion encontrada con las tomas de forma individual, por eso no la he implementado en google Colab (lo tengo en jupyter, que es como he trabajado las diferentes pruebas y escenarios hasta llegar a este definitivo que he implementado en google Colab).\r\n",
        "\r\n"
      ]
    }
  ]
}