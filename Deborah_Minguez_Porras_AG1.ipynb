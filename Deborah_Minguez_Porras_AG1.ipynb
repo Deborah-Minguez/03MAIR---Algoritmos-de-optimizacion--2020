{
  "nbformat": 4,
  "nbformat_minor": 0,
  "metadata": {
    "colab": {
      "name": "Deborah_Minguez_Porras-AG1.ipynb",
      "provenance": [],
      "collapsed_sections": [],
      "mount_file_id": "1dOpgKKqiEySv3Z3fj_QJ03ejQF7ys5VS",
      "authorship_tag": "ABX9TyPQQwgkuYLQ6GO+kDNQHvTt",
      "include_colab_link": true
    },
    "kernelspec": {
      "name": "python3",
      "display_name": "Python 3"
    }
  },
  "cells": [
    {
      "cell_type": "markdown",
      "metadata": {
        "id": "view-in-github",
        "colab_type": "text"
      },
      "source": [
        "<a href=\"https://colab.research.google.com/github/Deborah-Minguez/03MAIR---Algoritmos-de-optimizacion--2020/blob/PG1/Deborah_Minguez_Porras_AG1.ipynb\" target=\"_parent\"><img src=\"https://colab.research.google.com/assets/colab-badge.svg\" alt=\"Open In Colab\"/></a>"
      ]
    },
    {
      "cell_type": "markdown",
      "metadata": {
        "id": "MSQcH5mSq2kH"
      },
      "source": [
        "# AG1- Actividad Guiada 1 <br>\r\n",
        "Nombre: Deborah Minguez Porras <br>\r\n",
        "URL: https://colab.research.google.com/drive/1dOpgKKqiEySv3Z3fj_QJ03ejQF7ys5VS?usp=sharing <br>\r\n",
        "http: https://github.com/Deborah-Minguez/03MAIR---Algoritmos-de-optimizacion--2020"
      ]
    },
    {
      "cell_type": "markdown",
      "metadata": {
        "id": "rA8qd7TgvZ5H"
      },
      "source": [
        "## Torres de Hanoi con divide y vencerás"
      ]
    },
    {
      "cell_type": "code",
      "metadata": {
        "colab": {
          "base_uri": "https://localhost:8080/"
        },
        "id": "NVrq2KYsrSFC",
        "outputId": "54017574-1435-4f9c-e398-55ed9fd6b308"
      },
      "source": [
        "def torre_hanoi (N, desde, hasta):\r\n",
        "  if N==1:\r\n",
        "    print('Lleva la ficha ', desde, \" hasta \", hasta )\r\n",
        "  else : \r\n",
        "    torre_hanoi (N-1, desde, 6-desde-hasta)\r\n",
        "    print('Lleva la ficha ', desde, \" hasta \", hasta )\r\n",
        "    torre_hanoi (N-1,6-desde-hasta, hasta)\r\n",
        "torre_hanoi(6,1,3) "
      ],
      "execution_count": 7,
      "outputs": [
        {
          "output_type": "stream",
          "text": [
            "Lleva la ficha  1  hasta  3\n",
            "Lleva la ficha  1  hasta  2\n",
            "Lleva la ficha  3  hasta  2\n",
            "Lleva la ficha  1  hasta  3\n",
            "Lleva la ficha  2  hasta  1\n",
            "Lleva la ficha  2  hasta  3\n",
            "Lleva la ficha  1  hasta  3\n"
          ],
          "name": "stdout"
        }
      ]
    },
    {
      "cell_type": "markdown",
      "metadata": {
        "id": "sRBiHahd6WT5"
      },
      "source": [
        "## Devolución de cambio por técnica voraz"
      ]
    },
    {
      "cell_type": "code",
      "metadata": {
        "colab": {
          "base_uri": "https://localhost:8080/"
        },
        "id": "ZQ4WCBMU6pcX",
        "outputId": "e18b20fc-12c1-4cf7-cab4-3611336ab3a8"
      },
      "source": [
        "def cambio_monedas (N, SM):\r\n",
        "  ValorAcumulado = 0\r\n",
        "  SOLUCION = [0] * len (SM) # SOLUCION =[0,0,0..]\r\n",
        "  for i,valor in enumerate (SM):\r\n",
        "    monedas =(N-ValorAcumulado)//valor\r\n",
        "    SOLUCION[i]= monedas\r\n",
        "    ValorAcumulado = ValorAcumulado  + valor*monedas\r\n",
        "    if ValorAcumulado == N:\r\n",
        "      return SOLUCION\r\n",
        "cambio_monedas (37, [25,10,5,1])"
      ],
      "execution_count": 9,
      "outputs": [
        {
          "output_type": "execute_result",
          "data": {
            "text/plain": [
              "[1, 1, 0, 2]"
            ]
          },
          "metadata": {
            "tags": []
          },
          "execution_count": 9
        }
      ]
    },
    {
      "cell_type": "markdown",
      "metadata": {
        "id": "joE4YwY6_Fok"
      },
      "source": [
        "## N-Reinas por técnica de vuelta atrás"
      ]
    },
    {
      "cell_type": "code",
      "metadata": {
        "colab": {
          "base_uri": "https://localhost:8080/"
        },
        "id": "ijcS8Ofm_O8A",
        "outputId": "36402653-0c8a-4c8e-e99b-e3c6b5d9eabd"
      },
      "source": [
        "def escribe(S):\r\n",
        "  n = len(S)\r\n",
        "  for x in range(n):\r\n",
        "    print(\"\")\r\n",
        "    for i in range(n):\r\n",
        "      if S[i] == x+1:\r\n",
        "        print(\" X \" , end=\"\")\r\n",
        "      else:\r\n",
        "        print(\" - \", end=\"\")\r\n",
        "\r\n",
        "def es_prometedora (SOLUCION,etapa):\r\n",
        "  #print(SOLUCION)\r\n",
        "  #Si la solución tiene dos valores iguales no es valida => Dos reinas en la misma fila\r\n",
        "  for i in range(etapa+1):\r\n",
        "    #print(\"El valor \" + str(SOLUCION[i]) + \" está \" +  str(SOLUCION.count(SOLUCION[i])) + \" veces\")\r\n",
        "    if SOLUCION.count(SOLUCION[i]) > 1: return False\r\n",
        "      #Verifica las diagonales\r\n",
        "    for j in range(i+1, etapa +1):\r\n",
        "      #print(\"Comprobando diagonal de \" + str(i) + \" y \" + str(j))\r\n",
        "      if abs(i-j) == abs(SOLUCION[i]-SOLUCION[j]) : return False\r\n",
        "  return True\r\n",
        "\r\n",
        "def reinas (N,solucion=[],etapa=0):\r\n",
        "  if len(solucion)==0:\r\n",
        "      solucion=[0 for i in range(N) ]\r\n",
        "  for i in range(1,N+1):\r\n",
        "    solucion[etapa]= i\r\n",
        "    if es_prometedora(solucion,etapa):\r\n",
        "      if etapa== N-1 :\r\n",
        "        # print('La solucion es: ', solucion)\r\n",
        "        escribe(solucion)\r\n",
        "      else:\r\n",
        "        reinas(N, solucion, etapa+1) \r\n",
        "    else :\r\n",
        "        None\r\n",
        "    solucion[etapa]= 0\r\n",
        "reinas(4)"
      ],
      "execution_count": 17,
      "outputs": [
        {
          "output_type": "stream",
          "text": [
            "\n",
            " -  -  X  - \n",
            " X  -  -  - \n",
            " -  -  -  X \n",
            " -  X  -  - \n",
            " -  X  -  - \n",
            " -  -  -  X \n",
            " X  -  -  - \n",
            " -  -  X  - "
          ],
          "name": "stdout"
        }
      ]
    }
  ]
}